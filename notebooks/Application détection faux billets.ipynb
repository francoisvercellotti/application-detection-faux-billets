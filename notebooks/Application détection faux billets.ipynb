{
 "cells": [
  {
   "cell_type": "markdown",
   "id": "3178bd70",
   "metadata": {},
   "source": [
    "<h1 style=\"font-size: 3em;\">Application de détection de faux billets</h1>"
   ]
  },
  {
   "cell_type": "markdown",
   "id": "b2833f23",
   "metadata": {},
   "source": [
    "# Importation des librairies"
   ]
  },
  {
   "cell_type": "code",
   "execution_count": 1,
   "id": "aa4b79f0",
   "metadata": {},
   "outputs": [],
   "source": [
    "import pandas as pd\n",
    "import os\n",
    "import joblib"
   ]
  },
  {
   "cell_type": "markdown",
   "id": "0a292868",
   "metadata": {},
   "source": [
    "### Fonction de chargement des données"
   ]
  },
  {
   "cell_type": "code",
   "execution_count": 7,
   "id": "b2febd1d",
   "metadata": {},
   "outputs": [],
   "source": [
    "def load_data(file_path, delimiter=',', **kwargs):\n",
    "   \n",
    "    # Obtenir l'extension du fichier\n",
    "    _, file_extension = os.path.splitext(file_path)\n",
    "    \n",
    "    # Charger le fichier en fonction de son extension\n",
    "    if file_extension == '.csv':\n",
    "        data = pd.read_csv(file_path, delimiter=delimiter, **kwargs)\n",
    "    elif file_extension in ['.xls', '.xlsx']:\n",
    "        data = pd.read_excel(file_path, **kwargs)\n",
    "    elif file_extension == '.json':\n",
    "        data = pd.read_json(file_path, **kwargs)\n",
    "    elif file_extension == '.parquet':\n",
    "        data = pd.read_parquet(file_path, **kwargs)\n",
    "    elif file_extension == '.txt':\n",
    "        # Si le fichier texte utilise le délimiteur fourni\n",
    "        data = pd.read_csv(file_path, delimiter=delimiter, **kwargs)\n",
    "    else:\n",
    "        raise ValueError(f\"Extension de fichier '{file_extension}' non supportée.\")\n",
    "    # Spécifiez les colonnes nécessaires pour le modèle\n",
    "    columns_needed = ['id','diagonal', 'height_left', 'height_right', 'margin_low', 'margin_up', 'length']\n",
    "    \n",
    "    # Garder seulement les colonnes nécessaires si elles sont présentes dans le DataFrame\n",
    "    data = data[[col for col in columns_needed if col in data.columns]]\n",
    "    return data\n",
    "\n"
   ]
  },
  {
   "cell_type": "markdown",
   "id": "688aa00c",
   "metadata": {},
   "source": [
    "### Fonction de prédiction"
   ]
  },
  {
   "cell_type": "code",
   "execution_count": 8,
   "id": "a05cf456",
   "metadata": {},
   "outputs": [],
   "source": [
    "def predict_new_data(model, new_data):\n",
    "    \n",
    "    # Séparer les IDs des données pour la prédiction\n",
    "    ids = new_data['id']\n",
    "    data_for_prediction = new_data.drop(columns=['id'])\n",
    "\n",
    "    # Effectuer les prédictions\n",
    "    predictions = model.predict(data_for_prediction)\n",
    "\n",
    "    # Mapper les prédictions pour obtenir \"Vrai\" ou \"Faux\"\n",
    "    new_data['Prediction'] = predictions\n",
    "    new_data['Prediction'] = new_data['Prediction'].map({1: 'Vrai', 0: 'Faux'})\n",
    "\n",
    "    # Retourner un DataFrame avec uniquement les colonnes 'id' et 'Prediction'\n",
    "    return new_data[['id', 'Prediction']]\n"
   ]
  },
  {
   "cell_type": "markdown",
   "id": "4958a818",
   "metadata": {},
   "source": [
    "### Fonction chargement et prédiction"
   ]
  },
  {
   "cell_type": "code",
   "execution_count": 9,
   "id": "f2ce268b",
   "metadata": {},
   "outputs": [],
   "source": [
    "def load_and_predict(file_path, model_path, delimiter=',', **kwargs):\n",
    "   \n",
    "    \n",
    "    # Charger les données\n",
    "    new_data = load_data(file_path, delimiter=delimiter, **kwargs)\n",
    "\n",
    "    # Charger le modèle sauvegardé\n",
    "    model = joblib.load(model_path)\n",
    "    \n",
    "    # Prédire les nouvelles données\n",
    "    predictions = predict_new_data(model, new_data)\n",
    "\n",
    "    return predictions"
   ]
  },
  {
   "cell_type": "markdown",
   "id": "c18aa79c",
   "metadata": {},
   "source": [
    "# Application de la fonction"
   ]
  },
  {
   "cell_type": "code",
   "execution_count": 16,
   "id": "6937e407",
   "metadata": {},
   "outputs": [],
   "source": [
    "# Chemin vers le fichier contenant les données à prédire\n",
    "file_path = 'billets_production.csv'  \n",
    "# Chemin vers le modèle sauvegardé\n",
    "model_path = 'final_logistic_model.pkl'  \n"
   ]
  },
  {
   "cell_type": "code",
   "execution_count": 17,
   "id": "f5b1a2ef",
   "metadata": {},
   "outputs": [
    {
     "data": {
      "text/html": [
       "<div>\n",
       "<style scoped>\n",
       "    .dataframe tbody tr th:only-of-type {\n",
       "        vertical-align: middle;\n",
       "    }\n",
       "\n",
       "    .dataframe tbody tr th {\n",
       "        vertical-align: top;\n",
       "    }\n",
       "\n",
       "    .dataframe thead th {\n",
       "        text-align: right;\n",
       "    }\n",
       "</style>\n",
       "<table border=\"1\" class=\"dataframe\">\n",
       "  <thead>\n",
       "    <tr style=\"text-align: right;\">\n",
       "      <th></th>\n",
       "      <th>id</th>\n",
       "      <th>Prediction</th>\n",
       "    </tr>\n",
       "  </thead>\n",
       "  <tbody>\n",
       "    <tr>\n",
       "      <th>0</th>\n",
       "      <td>A_1</td>\n",
       "      <td>Faux</td>\n",
       "    </tr>\n",
       "    <tr>\n",
       "      <th>1</th>\n",
       "      <td>A_2</td>\n",
       "      <td>Faux</td>\n",
       "    </tr>\n",
       "    <tr>\n",
       "      <th>2</th>\n",
       "      <td>A_3</td>\n",
       "      <td>Faux</td>\n",
       "    </tr>\n",
       "    <tr>\n",
       "      <th>3</th>\n",
       "      <td>A_4</td>\n",
       "      <td>Vrai</td>\n",
       "    </tr>\n",
       "    <tr>\n",
       "      <th>4</th>\n",
       "      <td>A_5</td>\n",
       "      <td>Vrai</td>\n",
       "    </tr>\n",
       "  </tbody>\n",
       "</table>\n",
       "</div>"
      ],
      "text/plain": [
       "    id Prediction\n",
       "0  A_1       Faux\n",
       "1  A_2       Faux\n",
       "2  A_3       Faux\n",
       "3  A_4       Vrai\n",
       "4  A_5       Vrai"
      ]
     },
     "execution_count": 17,
     "metadata": {},
     "output_type": "execute_result"
    }
   ],
   "source": [
    "load_and_predict(file_path, model_path, delimiter=',')"
   ]
  },
  {
   "cell_type": "code",
   "execution_count": null,
   "id": "bf6a5af4",
   "metadata": {},
   "outputs": [],
   "source": []
  }
 ],
 "metadata": {
  "kernelspec": {
   "display_name": "Python 3 (ipykernel)",
   "language": "python",
   "name": "python3"
  },
  "language_info": {
   "codemirror_mode": {
    "name": "ipython",
    "version": 3
   },
   "file_extension": ".py",
   "mimetype": "text/x-python",
   "name": "python",
   "nbconvert_exporter": "python",
   "pygments_lexer": "ipython3",
   "version": "3.11.5"
  }
 },
 "nbformat": 4,
 "nbformat_minor": 5
}
